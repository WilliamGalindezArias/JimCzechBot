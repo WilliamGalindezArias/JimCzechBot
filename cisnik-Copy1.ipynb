{
 "cells": [
  {
   "cell_type": "code",
   "execution_count": 1,
   "metadata": {},
   "outputs": [],
   "source": [
    "import rasa_nlu\n",
    "import rasa_core"
   ]
  },
  {
   "cell_type": "code",
   "execution_count": 2,
   "metadata": {},
   "outputs": [
    {
     "name": "stdout",
     "output_type": "stream",
     "text": [
      "rasa_nlu: 0.14.3 rasa_core: 0.13.2\n"
     ]
    }
   ],
   "source": [
    "print(\"rasa_nlu: {} rasa_core: {}\".format(rasa_nlu.__version__, rasa_core.__version__))"
   ]
  },
  {
   "cell_type": "code",
   "execution_count": 3,
   "metadata": {},
   "outputs": [],
   "source": [
    "from rasa_nlu.training_data import load_data\n",
    "from rasa_nlu.config import RasaNLUModelConfig\n",
    "from rasa_nlu.model import Trainer\n",
    "from rasa_nlu import config"
   ]
  },
  {
   "cell_type": "code",
   "execution_count": 4,
   "metadata": {},
   "outputs": [
    {
     "name": "stderr",
     "output_type": "stream",
     "text": [
      "Epochs: 100%|██████████| 300/300 [00:04<00:00, 60.54it/s, loss=0.096, acc=1.000]\n"
     ]
    }
   ],
   "source": [
    "# loading the nlu training samples\n",
    "training_data = load_data(\"data/nlu_data.md\")\n",
    "\n",
    "# trainer to educate our pipeline\n",
    "trainer = Trainer(config.load(\"data/nlu_config.yml\"))\n",
    "\n",
    "# train the model!\n",
    "interpreter = trainer.train(training_data)\n",
    "\n",
    "# store it for future use\n",
    "model_directory = trainer.persist(\"models/current/nlu\", fixed_model_name=\"current\")"
   ]
  },
  {
   "cell_type": "code",
   "execution_count": 5,
   "metadata": {},
   "outputs": [
    {
     "name": "stdout",
     "output_type": "stream",
     "text": [
      "{'intent': {'name': 'order_food_main_dish', 'confidence': 0.8891581892967224}, 'entities': [{'start': 23, 'end': 34, 'value': 'Smažený sýr', 'entity': 'dish', 'confidence': 0.6718105031002314, 'extractor': 'ner_crf'}], 'intent_ranking': [{'name': 'order_food_main_dish', 'confidence': 0.8891581892967224}, {'name': 'greet', 'confidence': 0.1928783655166626}, {'name': 'order_food_desert', 'confidence': 0.1203313022851944}, {'name': 'name', 'confidence': 0.09862610697746277}, {'name': 'thanks', 'confidence': 0.008810266852378845}, {'name': 'goodbye', 'confidence': 0.0}, {'name': 'order_food_drink', 'confidence': 0.0}, {'name': 'pay', 'confidence': 0.0}, {'name': 'order_food_side_dish', 'confidence': 0.0}, {'name': 'affirm', 'confidence': 0.0}], 'text': 'Chtěl bych si objednat Smažený sýr'}\n"
     ]
    }
   ],
   "source": [
    "print(interpreter.parse(\"Chtěl bych si objednat Smažený sýr\"))"
   ]
  },
  {
   "cell_type": "code",
   "execution_count": 6,
   "metadata": {},
   "outputs": [
    {
     "name": "stdout",
     "output_type": "stream",
     "text": [
      "<rasa_nlu.model.Interpreter object at 0xd3df151d0>\n"
     ]
    }
   ],
   "source": [
    "print(interpreter)"
   ]
  },
  {
   "cell_type": "markdown",
   "metadata": {},
   "source": [
    "### custom actions"
   ]
  },
  {
   "cell_type": "code",
   "execution_count": 11,
   "metadata": {},
   "outputs": [],
   "source": [
    "from typing import Dict, Text, Any, List, Union\n",
    "\n",
    "from rasa_core_sdk import ActionExecutionRejection\n",
    "from rasa_core_sdk import Tracker\n",
    "from rasa_core_sdk.events import SlotSet\n",
    "from rasa_core_sdk.executor import CollectingDispatcher\n",
    "from rasa_core_sdk.forms import FormAction, REQUESTED_SLOT\n",
    "\n",
    "class OrderFood(FormAction):\n",
    "    def name(self):\n",
    "\n",
    "        \"\"\"The first function which you should define in a form action class is\n",
    "            called name which simply defines the name of the action (the same one you defined in the domain file)\"\"\"\n",
    "\n",
    "        return \"food_form\"\n",
    "    @staticmethod\n",
    "    def required_slots(tracker:Tracker) -> List[Text]:\n",
    "        \"\"\"A list of required slots that the form has to fill\"\"\"\n",
    "\n",
    "        if tracker.get_slot('drink') == 'pivo':\n",
    "            return[\"dish\", \"Pilsener Urquel\", \"desert\"]\n",
    "        else:\n",
    "\n",
    "            return [\"dish\", \"drink\", \"desert\"]\n",
    "\n",
    "        \"\"\"The final building block of a simple form action is a function called submit which defines \n",
    "        what should happen once all required slots are populated. \n",
    "        In a restaurant search assistant case, once all the slots are populated, \n",
    "        the assistant will execute the template utter_submit which, based on how it’s defined in a domain.yml file,\n",
    "        will confirm that the assistant has all the information it needs to proceed:\"\"\"\n",
    "\n",
    "    def submit(self):\n",
    "        \"\"\"defines what the form has to do after all required slots are filled\"\"\"\n",
    "\n",
    "        dispatcher.utter_template('utter_submit', tracker)\n",
    "        return []"
   ]
  },
  {
   "cell_type": "code",
   "execution_count": 8,
   "metadata": {},
   "outputs": [],
   "source": [
    "endpoint = \"\"\"\n",
    "action_endpoint:\n",
    "  url: \"http://localhost:5055/webhook\"\n",
    "\"\"\"\n",
    "#%store endpoint > endpoints.yml"
   ]
  },
  {
   "cell_type": "markdown",
   "metadata": {},
   "source": [
    "You will have to start the actions server on the command line. To do that, use code block below to start the command line and run the following command: python -m rasa_core_sdk.endpoint --actions actions"
   ]
  },
  {
   "cell_type": "markdown",
   "metadata": {},
   "source": [
    "##### run in console\n",
    " python -m rasa_core.train -d domain.yml -s stories.md -o  models/dialogue\n",
    " ###### you will get then:\n",
    " Persisted model to '/Users/William/starter-pack-rasa-stack/czech/data/models/dialogue'"
   ]
  },
  {
   "cell_type": "code",
   "execution_count": null,
   "metadata": {},
   "outputs": [],
   "source": [
    "from IPython.display import IFrame\n",
    "IFrame(\"http://localhost:8888/terminals/1\", width=1000, height=500)"
   ]
  },
  {
   "cell_type": "code",
   "execution_count": null,
   "metadata": {},
   "outputs": [
    {
     "name": "stdout",
     "output_type": "stream",
     "text": [
      "INFO:tensorflow:Restoring parameters from /Users/William/starter-pack-rasa-stack/czech/models/current/nlu/default/current/intent_classifier_tensorflow_embedding.ckpt\n",
      "Your bot is ready to talk! Type your messages here or send 'stop'\n",
      "ahoj\n",
      "Vitejte None, stul pro kolik osob\n",
      "jsme William\n",
      "Vitejte William, stul pro kolik osob\n",
      "Chtěl bych si objednat Smažený sýr\n",
      "Dáte si něco k pití?\n",
      "Mohl bych dostat sklenici vino\n",
      " pro vas Dáte si dezert?\n",
      "Chtěl bych si objednat zmerzlina\n",
      "Dobre, To je všechno\n",
      "tak:\n",
      " - hlavní_jidla: Smažený sýr\n",
      " - Napoje: vino\n",
      " - Dezerty: zmerzlina\n",
      "dekuji\n",
      "Nashledanou\n",
      "Nashledanou\n"
     ]
    }
   ],
   "source": [
    "import IPython\n",
    "from IPython.display import clear_output\n",
    "from rasa_core.agent import Agent\n",
    "from rasa_core.interpreter import NaturalLanguageInterpreter\n",
    "from rasa_core.utils import EndpointConfig\n",
    "import time\n",
    "\n",
    "from rasa_core.policies import FallbackPolicy, KerasPolicy, MemoizationPolicy\n",
    "\n",
    "messages = [\"Hi! you can chat in this window. Type 'stop' to end the conversation.\"]\n",
    "interpreter = NaturalLanguageInterpreter.create('/Users/William/starter-pack-rasa-stack/czech/models/current/nlu/default/current')\n",
    "endpoint = EndpointConfig('http://localhost:5055/webhook')\n",
    "agent = Agent.load('/Users/William/starter-pack-rasa-stack/czech/data/models/dialogue', interpreter=interpreter, action_endpoint = endpoint)\n",
    "#agent = Agent.load('/Users/William/starter-pack-rasa-stack/czech/data/models/dialogue', interpreter=model_directory, action_endpoint = endpoint)\n",
    "\n",
    "print(\"Your bot is ready to talk! Type your messages here or send 'stop'\")\n",
    "while True:\n",
    "    a = input()\n",
    "    if a == 'stop':\n",
    "        break\n",
    "    responses = agent.handle_text(a)\n",
    "    for response in responses:\n",
    "        print(response[\"text\"])\n"
   ]
  },
  {
   "cell_type": "code",
   "execution_count": null,
   "metadata": {},
   "outputs": [],
   "source": [
    "#!python -m rasa_core.run -d Users/William/starter-pack-rasa-stack/czech/data/models/dialogue -u models/current/nlu --endpoints data/endpoints.yml"
   ]
  },
  {
   "cell_type": "code",
   "execution_count": null,
   "metadata": {},
   "outputs": [],
   "source": [
    "from rasa_core.policies import FallbackPolicy, KerasPolicy, MemoizationPolicy\n",
    "from rasa_core.agent import Agent"
   ]
  },
  {
   "cell_type": "code",
   "execution_count": null,
   "metadata": {},
   "outputs": [],
   "source": [
    "from rasa_core.agent import Agent\n",
    "agent = Agent.load('/Users/William/starter-pack-rasa-stack/czech/data/models/dialogue', interpreter=model_directory)"
   ]
  },
  {
   "cell_type": "code",
   "execution_count": null,
   "metadata": {},
   "outputs": [],
   "source": [
    "print(\"Your bot is ready to talk! Type your messages here or send 'stop'\")\n",
    "while True:\n",
    "    a = input()\n",
    "    if a == 'stop':\n",
    "        break\n",
    "    responses = agent.handle_message(a)\n",
    "    for response in responses:\n",
    "        print(response[\"text\"])"
   ]
  },
  {
   "cell_type": "code",
   "execution_count": null,
   "metadata": {},
   "outputs": [],
   "source": [
    "\n"
   ]
  },
  {
   "cell_type": "code",
   "execution_count": null,
   "metadata": {},
   "outputs": [],
   "source": []
  }
 ],
 "metadata": {
  "kernelspec": {
   "display_name": "Python 3",
   "language": "python",
   "name": "python3"
  },
  "language_info": {
   "codemirror_mode": {
    "name": "ipython",
    "version": 3
   },
   "file_extension": ".py",
   "mimetype": "text/x-python",
   "name": "python",
   "nbconvert_exporter": "python",
   "pygments_lexer": "ipython3",
   "version": "3.6.8"
  }
 },
 "nbformat": 4,
 "nbformat_minor": 2
}
